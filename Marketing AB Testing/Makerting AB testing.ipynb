{
 "cells": [
  {
   "cell_type": "code",
   "execution_count": 1,
   "id": "3b736a71",
   "metadata": {},
   "outputs": [],
   "source": [
    "import pandas as pd\n"
   ]
  },
  {
   "cell_type": "code",
   "execution_count": 2,
   "id": "170d4130",
   "metadata": {},
   "outputs": [],
   "source": [
    "data = pd.read_csv(r\"C:\\Users\\Vagdevi\\Downloads\\marketing_AB.csv\")"
   ]
  },
  {
   "cell_type": "code",
   "execution_count": 3,
   "id": "37ad0bca",
   "metadata": {},
   "outputs": [
    {
     "name": "stdout",
     "output_type": "stream",
     "text": [
      "<class 'pandas.core.frame.DataFrame'>\n",
      "RangeIndex: 588101 entries, 0 to 588100\n",
      "Data columns (total 7 columns):\n",
      " #   Column         Non-Null Count   Dtype \n",
      "---  ------         --------------   ----- \n",
      " 0   Unnamed: 0     588101 non-null  int64 \n",
      " 1   user id        588101 non-null  int64 \n",
      " 2   test group     588101 non-null  object\n",
      " 3   converted      588101 non-null  bool  \n",
      " 4   total ads      588101 non-null  int64 \n",
      " 5   most ads day   588101 non-null  object\n",
      " 6   most ads hour  588101 non-null  int64 \n",
      "dtypes: bool(1), int64(4), object(2)\n",
      "memory usage: 27.5+ MB\n"
     ]
    }
   ],
   "source": [
    "data.info()\n"
   ]
  },
  {
   "cell_type": "code",
   "execution_count": 4,
   "id": "8fc4c9ca",
   "metadata": {},
   "outputs": [
    {
     "data": {
      "text/html": [
       "<div>\n",
       "<style scoped>\n",
       "    .dataframe tbody tr th:only-of-type {\n",
       "        vertical-align: middle;\n",
       "    }\n",
       "\n",
       "    .dataframe tbody tr th {\n",
       "        vertical-align: top;\n",
       "    }\n",
       "\n",
       "    .dataframe thead th {\n",
       "        text-align: right;\n",
       "    }\n",
       "</style>\n",
       "<table border=\"1\" class=\"dataframe\">\n",
       "  <thead>\n",
       "    <tr style=\"text-align: right;\">\n",
       "      <th></th>\n",
       "      <th>Unnamed: 0</th>\n",
       "      <th>user id</th>\n",
       "      <th>total ads</th>\n",
       "      <th>most ads hour</th>\n",
       "    </tr>\n",
       "  </thead>\n",
       "  <tbody>\n",
       "    <tr>\n",
       "      <th>count</th>\n",
       "      <td>588101.000000</td>\n",
       "      <td>5.881010e+05</td>\n",
       "      <td>588101.000000</td>\n",
       "      <td>588101.000000</td>\n",
       "    </tr>\n",
       "    <tr>\n",
       "      <th>mean</th>\n",
       "      <td>294050.000000</td>\n",
       "      <td>1.310692e+06</td>\n",
       "      <td>24.820876</td>\n",
       "      <td>14.469061</td>\n",
       "    </tr>\n",
       "    <tr>\n",
       "      <th>std</th>\n",
       "      <td>169770.279667</td>\n",
       "      <td>2.022260e+05</td>\n",
       "      <td>43.715181</td>\n",
       "      <td>4.834634</td>\n",
       "    </tr>\n",
       "    <tr>\n",
       "      <th>min</th>\n",
       "      <td>0.000000</td>\n",
       "      <td>9.000000e+05</td>\n",
       "      <td>1.000000</td>\n",
       "      <td>0.000000</td>\n",
       "    </tr>\n",
       "    <tr>\n",
       "      <th>25%</th>\n",
       "      <td>147025.000000</td>\n",
       "      <td>1.143190e+06</td>\n",
       "      <td>4.000000</td>\n",
       "      <td>11.000000</td>\n",
       "    </tr>\n",
       "    <tr>\n",
       "      <th>50%</th>\n",
       "      <td>294050.000000</td>\n",
       "      <td>1.313725e+06</td>\n",
       "      <td>13.000000</td>\n",
       "      <td>14.000000</td>\n",
       "    </tr>\n",
       "    <tr>\n",
       "      <th>75%</th>\n",
       "      <td>441075.000000</td>\n",
       "      <td>1.484088e+06</td>\n",
       "      <td>27.000000</td>\n",
       "      <td>18.000000</td>\n",
       "    </tr>\n",
       "    <tr>\n",
       "      <th>max</th>\n",
       "      <td>588100.000000</td>\n",
       "      <td>1.654483e+06</td>\n",
       "      <td>2065.000000</td>\n",
       "      <td>23.000000</td>\n",
       "    </tr>\n",
       "  </tbody>\n",
       "</table>\n",
       "</div>"
      ],
      "text/plain": [
       "          Unnamed: 0       user id      total ads  most ads hour\n",
       "count  588101.000000  5.881010e+05  588101.000000  588101.000000\n",
       "mean   294050.000000  1.310692e+06      24.820876      14.469061\n",
       "std    169770.279667  2.022260e+05      43.715181       4.834634\n",
       "min         0.000000  9.000000e+05       1.000000       0.000000\n",
       "25%    147025.000000  1.143190e+06       4.000000      11.000000\n",
       "50%    294050.000000  1.313725e+06      13.000000      14.000000\n",
       "75%    441075.000000  1.484088e+06      27.000000      18.000000\n",
       "max    588100.000000  1.654483e+06    2065.000000      23.000000"
      ]
     },
     "execution_count": 4,
     "metadata": {},
     "output_type": "execute_result"
    }
   ],
   "source": [
    "data.describe()"
   ]
  },
  {
   "cell_type": "code",
   "execution_count": 7,
   "id": "02bd80d4",
   "metadata": {},
   "outputs": [],
   "source": [
    "# Drop the unnecessary column (Unnamed: 0) for clarity\n",
    "ab_data_cleaned = data.drop(columns=['Unnamed: 0'])"
   ]
  },
  {
   "cell_type": "code",
   "execution_count": 13,
   "id": "04d39d92",
   "metadata": {},
   "outputs": [
    {
     "data": {
      "text/plain": [
       "array(['ad', 'psa'], dtype=object)"
      ]
     },
     "execution_count": 13,
     "metadata": {},
     "output_type": "execute_result"
    }
   ],
   "source": [
    "# Display unique values in the 'test group' column to identify control and test groups\n",
    "unique_groups = ab_data_cleaned['test group'].unique()\n",
    "unique_groups"
   ]
  },
  {
   "cell_type": "code",
   "execution_count": 14,
   "id": "e26ef2d9",
   "metadata": {},
   "outputs": [
    {
     "data": {
      "text/plain": [
       "(user id          0\n",
       " test group       0\n",
       " converted        0\n",
       " total ads        0\n",
       " most ads day     0\n",
       " most ads hour    0\n",
       " dtype: int64,\n",
       "              user id test group converted      total ads most ads day  \\\n",
       " count   5.881010e+05     588101    588101  588101.000000       588101   \n",
       " unique           NaN          2         2            NaN            7   \n",
       " top              NaN         ad     False            NaN       Friday   \n",
       " freq             NaN     564577    573258            NaN        92608   \n",
       " mean    1.310692e+06        NaN       NaN      24.820876          NaN   \n",
       " std     2.022260e+05        NaN       NaN      43.715181          NaN   \n",
       " min     9.000000e+05        NaN       NaN       1.000000          NaN   \n",
       " 25%     1.143190e+06        NaN       NaN       4.000000          NaN   \n",
       " 50%     1.313725e+06        NaN       NaN      13.000000          NaN   \n",
       " 75%     1.484088e+06        NaN       NaN      27.000000          NaN   \n",
       " max     1.654483e+06        NaN       NaN    2065.000000          NaN   \n",
       " \n",
       "         most ads hour  \n",
       " count   588101.000000  \n",
       " unique            NaN  \n",
       " top               NaN  \n",
       " freq              NaN  \n",
       " mean        14.469061  \n",
       " std          4.834634  \n",
       " min          0.000000  \n",
       " 25%         11.000000  \n",
       " 50%         14.000000  \n",
       " 75%         18.000000  \n",
       " max         23.000000  )"
      ]
     },
     "execution_count": 14,
     "metadata": {},
     "output_type": "execute_result"
    }
   ],
   "source": [
    "# Check for missing values and general summary statistics\n",
    "missing_values = ab_data_cleaned.isnull().sum()\n",
    "summary_stats = ab_data_cleaned.describe(include='all')\n",
    "\n",
    "missing_values,summary_stats"
   ]
  },
  {
   "cell_type": "code",
   "execution_count": 15,
   "id": "b6dcf90e",
   "metadata": {},
   "outputs": [],
   "source": [
    "# Segment the dataset into control (ad) and test (psa) groups"
   ]
  },
  {
   "cell_type": "code",
   "execution_count": 16,
   "id": "259b5e71",
   "metadata": {},
   "outputs": [],
   "source": [
    "control_group = ab_data_cleaned[ab_data_cleaned['test group'] == 'ad']\n",
    "\n",
    "test_group = ab_data_cleaned[ab_data_cleaned['test group'] == 'psa']"
   ]
  },
  {
   "cell_type": "code",
   "execution_count": 17,
   "id": "6b2e4141",
   "metadata": {},
   "outputs": [],
   "source": [
    "# Display the first few rows of each group to confirm segmentation"
   ]
  },
  {
   "cell_type": "code",
   "execution_count": 18,
   "id": "6ba64f8a",
   "metadata": {},
   "outputs": [
    {
     "name": "stdout",
     "output_type": "stream",
     "text": [
      "Control Group:\n",
      "   user id test group  converted  total ads most ads day  most ads hour\n",
      "0  1069124         ad      False        130       Monday             20\n",
      "1  1119715         ad      False         93      Tuesday             22\n",
      "2  1144181         ad      False         21      Tuesday             18\n",
      "3  1435133         ad      False        355      Tuesday             10\n",
      "4  1015700         ad      False        276       Friday             14\n"
     ]
    }
   ],
   "source": [
    "print(\"Control Group:\")\n",
    "print(control_group.head())"
   ]
  },
  {
   "cell_type": "code",
   "execution_count": 19,
   "id": "418f449d",
   "metadata": {},
   "outputs": [
    {
     "name": "stdout",
     "output_type": "stream",
     "text": [
      "\n",
      "Test Group:\n",
      "     user id test group  converted  total ads most ads day  most ads hour\n",
      "18    900681        psa      False        248     Saturday             19\n",
      "38    905704        psa      False         27     Thursday              8\n",
      "68    904595        psa      False         13      Tuesday             19\n",
      "140   901904        psa      False         32    Wednesday             19\n",
      "157   902234        psa      False        105      Tuesday             19\n"
     ]
    }
   ],
   "source": [
    "print(\"\\nTest Group:\")\n",
    "print(test_group.head())"
   ]
  },
  {
   "cell_type": "code",
   "execution_count": 20,
   "id": "8f5a7f7a",
   "metadata": {},
   "outputs": [
    {
     "name": "stdout",
     "output_type": "stream",
     "text": [
      "Missing Values:\n",
      " user id          0\n",
      "test group       0\n",
      "converted        0\n",
      "total ads        0\n",
      "most ads day     0\n",
      "most ads hour    0\n",
      "dtype: int64\n"
     ]
    }
   ],
   "source": [
    "# Check for missing values in each column\n",
    "missing_values = ab_data_cleaned.isnull().sum()\n",
    "print(\"Missing Values:\\n\", missing_values)"
   ]
  },
  {
   "cell_type": "code",
   "execution_count": 21,
   "id": "18da82cf",
   "metadata": {},
   "outputs": [],
   "source": [
    "# Count the number of users in each group\n",
    "#checking for data imbalance: Imbalance occurs when the number of users in the control and test groups differs significantly.\n",
    "\n"
   ]
  },
  {
   "cell_type": "code",
   "execution_count": 22,
   "id": "dfbb4cf7",
   "metadata": {},
   "outputs": [
    {
     "name": "stdout",
     "output_type": "stream",
     "text": [
      "Group Counts:\n",
      " ad     564577\n",
      "psa     23524\n",
      "Name: test group, dtype: int64\n"
     ]
    }
   ],
   "source": [
    "group_counts = ab_data_cleaned['test group'].value_counts()\n",
    "print(\"Group Counts:\\n\", group_counts)"
   ]
  },
  {
   "cell_type": "code",
   "execution_count": 23,
   "id": "99005b6e",
   "metadata": {},
   "outputs": [
    {
     "name": "stdout",
     "output_type": "stream",
     "text": [
      "\n",
      "Group Proportions (%):\n",
      " ad     96.000007\n",
      "psa     3.999993\n",
      "Name: test group, dtype: float64\n"
     ]
    }
   ],
   "source": [
    "# Calculate the proportion of users in each group\n",
    "group_proportions = ab_data_cleaned['test group'].value_counts(normalize=True) * 100\n",
    "print(\"\\nGroup Proportions (%):\\n\", group_proportions)"
   ]
  },
  {
   "cell_type": "code",
   "execution_count": 24,
   "id": "aeb0003d",
   "metadata": {},
   "outputs": [],
   "source": [
    "# Calculate conversion rates for control and test groups"
   ]
  },
  {
   "cell_type": "code",
   "execution_count": 25,
   "id": "66a1eb74",
   "metadata": {},
   "outputs": [],
   "source": [
    "control_conversion_rate = control_group['converted'].mean()*100\n",
    "test_conversion_rate = test_group['converted'].mean()*100"
   ]
  },
  {
   "cell_type": "code",
   "execution_count": 26,
   "id": "c48db5ff",
   "metadata": {},
   "outputs": [
    {
     "name": "stdout",
     "output_type": "stream",
     "text": [
      "Control Group Conversion Rate: 2.55%\n",
      "Test Group Conversion Rate: 1.79%\n"
     ]
    }
   ],
   "source": [
    "print(f\"Control Group Conversion Rate: {control_conversion_rate:.2f}%\")\n",
    "print(f\"Test Group Conversion Rate: {test_conversion_rate:.2f}%\")"
   ]
  },
  {
   "cell_type": "code",
   "execution_count": 27,
   "id": "cf20bb24",
   "metadata": {},
   "outputs": [],
   "source": [
    "#Comparing Conversion Rates"
   ]
  },
  {
   "cell_type": "code",
   "execution_count": 28,
   "id": "f3a555ca",
   "metadata": {},
   "outputs": [],
   "source": [
    "import matplotlib.pyplot as plt"
   ]
  },
  {
   "cell_type": "code",
   "execution_count": 29,
   "id": "b7a83754",
   "metadata": {},
   "outputs": [],
   "source": [
    "groups = ['Control''Test']\n",
    "cinversion_rates = [control_conversion_rate,test_conversion_rate]"
   ]
  },
  {
   "cell_type": "code",
   "execution_count": 31,
   "id": "ac9df9ef",
   "metadata": {},
   "outputs": [
    {
     "data": {
      "image/png": "[encoded data removed]",
      "text/plain": [
       "<Figure size 432x288 with 1 Axes>"
      ]
     },
     "metadata": {
      "needs_background": "light"
     },
     "output_type": "display_data"
    }
   ],
   "source": [
    "plt.bar(groups, cinversion_rates, color=['blue', 'orange'])\n",
    "plt.title('Conversion Rate Comparison')\n",
    "plt.ylabel('Conversion Rate (%)')\n",
    "plt.show()"
   ]
  },
  {
   "cell_type": "code",
   "execution_count": 32,
   "id": "8b6d4ec2",
   "metadata": {},
   "outputs": [],
   "source": [
    "# Z-test\n",
    "# Statistical Analysis"
   ]
  },
  {
   "cell_type": "code",
   "execution_count": 33,
   "id": "92aa762b",
   "metadata": {},
   "outputs": [],
   "source": [
    "from statsmodels.stats.proportion import proportions_ztest"
   ]
  },
  {
   "cell_type": "code",
   "execution_count": 34,
   "id": "52a19b1f",
   "metadata": {},
   "outputs": [],
   "source": [
    "# Number of conversions and total users in each group\n",
    "successes = [control_group['converted'].sum(), test_group['converted'].sum()]\n",
    "nobs = [len(control_group), len(test_group)]"
   ]
  },
  {
   "cell_type": "code",
   "execution_count": 35,
   "id": "70025738",
   "metadata": {},
   "outputs": [
    {
     "data": {
      "text/plain": [
       "[564577, 23524]"
      ]
     },
     "execution_count": 35,
     "metadata": {},
     "output_type": "execute_result"
    }
   ],
   "source": [
    "successes\n",
    "nobs"
   ]
  },
  {
   "cell_type": "code",
   "execution_count": 36,
   "id": "821a5ba3",
   "metadata": {},
   "outputs": [
    {
     "name": "stdout",
     "output_type": "stream",
     "text": [
      "Z-Statistic: 7.3700781265454145, P-value: 1.7052807161559727e-13\n"
     ]
    }
   ],
   "source": [
    "z_stat, p_value = proportions_ztest(successes, nobs)\n",
    "print(f\"Z-Statistic: {z_stat}, P-value: {p_value}\")"
   ]
  },
  {
   "cell_type": "code",
   "execution_count": 37,
   "id": "1fe7cee1",
   "metadata": {},
   "outputs": [
    {
     "name": "stdout",
     "output_type": "stream",
     "text": [
      "The difference in conversion rates is statistically significant.\n"
     ]
    }
   ],
   "source": [
    "# Interpretation\n",
    "if p_value < 0.05:\n",
    "    print(\"The difference in conversion rates is statistically significant.\")\n",
    "else:\n",
    "    print(\"The difference in conversion rates is not statistically significant.\")"
   ]
  },
  {
   "cell_type": "code",
   "execution_count": null,
   "id": "05c110fc",
   "metadata": {},
   "outputs": [],
   "source": [
    "# Hence we can conclude that the test group change is effective."
   ]
  }
 ],
 "metadata": {
  "kernelspec": {
   "display_name": "Python 3",
   "language": "python",
   "name": "python3"
  },
  "language_info": {
   "codemirror_mode": {
    "name": "ipython",
    "version": 3
   },
   "file_extension": ".py",
   "mimetype": "text/x-python",
   "name": "python",
   "nbconvert_exporter": "python",
   "pygments_lexer": "ipython3",
   "version": "3.8.8"
  }
 },
 "nbformat": 4,
 "nbformat_minor": 5
}
